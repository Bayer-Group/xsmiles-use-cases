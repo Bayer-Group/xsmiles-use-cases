{
 "cells": [
  {
   "cell_type": "markdown",
   "metadata": {},
   "source": [
    "# Introduction"
   ]
  },
  {
   "cell_type": "markdown",
   "metadata": {},
   "source": [
    "In this notebook we calculate Gasteiger Charges with RDKit and display them with XSMILES."
   ]
  },
  {
   "cell_type": "code",
   "execution_count": 1,
   "metadata": {},
   "outputs": [],
   "source": [
    "import xsmiles\n",
    "import json # currently XSMILES widget only accepts the python dict in json-text format\n",
    "import rdkit # make sure you have RDKit installed to run this notebook: pip install rdkit-pypi\n",
    "from rdkit import Chem\n",
    "from rdkit.Chem import AllChem"
   ]
  },
  {
   "cell_type": "code",
   "execution_count": 8,
   "metadata": {},
   "outputs": [
    {
     "name": "stdout",
     "output_type": "stream",
     "text": [
      "Python RDKit version: 2021.09.2\n",
      "XSMILES-JupyterLab version: 0.2.1\n"
     ]
    }
   ],
   "source": [
    "print(\"Python RDKit version:\", rdkit.__version__) \n",
    "print(\"XSMILES-JupyterLab version:\", xsmiles.__version__) "
   ]
  },
  {
   "cell_type": "code",
   "execution_count": 3,
   "metadata": {},
   "outputs": [],
   "source": [
    "# creates a simple XSMILES-Molecule structure, without attributes, with only a single XAI method\n",
    "def get_xsmiles_simple_molecules(smiles_strings, attributions_vectors, method_name):\n",
    "    molecules = []\n",
    "    for i in range(len(smiles_strings)):\n",
    "        molecule = {\n",
    "            'string': smiles_strings[i],\n",
    "            'methods': [\n",
    "                { 'name': method_name, 'scores': attributions_vectors[i] }, \n",
    "            ],\n",
    "            'attributes': {\"ID\": i}        \n",
    "        }\n",
    "        molecules.append(molecule)\n",
    "    return molecules"
   ]
  },
  {
   "cell_type": "markdown",
   "metadata": {},
   "source": [
    "### Compute Gasteiger Charges"
   ]
  },
  {
   "cell_type": "code",
   "execution_count": 4,
   "metadata": {},
   "outputs": [],
   "source": [
    "# set of smiles\n",
    "smiles_strings = [\"N#Cc1c[nH]cc1c1cccc(Cl)c1Cl\", \"Cc1c(Br)c2ccc(F)cc2n1S(=O)(=O)c1ncn(S(=O)(=O)N(C)C)n1\"]\n",
    "\n",
    "# create RDKit molecules\n",
    "mols = [Chem.MolFromSmiles(smiles_string, sanitize=True) for smiles_string in smiles_strings]\n",
    "\n",
    "# compute charges\n",
    "for mol in mols:\n",
    "    AllChem.ComputeGasteigerCharges(mol)\n",
    "\n",
    "# get atom attributions\n",
    "charges_attributions = [\n",
    "    [mols[i].GetAtomWithIdx(j).GetDoubleProp('_GasteigerCharge') for j in range(mols[i].GetNumAtoms())] for i in\n",
    "    range(len(mols))]\n",
    "\n",
    "\n",
    "xsmiles_molecules = get_xsmiles_simple_molecules(smiles_strings, charges_attributions, \"Gasteiger\")"
   ]
  },
  {
   "cell_type": "markdown",
   "metadata": {},
   "source": [
    "### Set up visualization"
   ]
  },
  {
   "cell_type": "code",
   "execution_count": 5,
   "metadata": {},
   "outputs": [],
   "source": [
    "view_config = {\n",
    "    'hideBarChart': False,\n",
    "    'hideAttributesTable': True, \n",
    "    'drawerType': 'RDKitDrawer_black', # Possible values RDKitDrawer (colored) or RDKitDrawer_black (black).\n",
    "    \n",
    "}\n",
    "\n",
    "# Set color domain to [-max, 0, max]\n",
    "all_abs_scores = [abs(score) for attributions in charges_attributions for score in attributions]\n",
    "max_abs_scores = max(all_abs_scores)\n",
    "\n",
    "gradient_config = {     \n",
    "        'palette': 'PRGn_5',\n",
    "        'thresholds': [0.5], #default []\n",
    "        'highlight': True,\n",
    "        'colorDomain': [-max_abs_scores, 0, max_abs_scores],\n",
    "      }\n",
    "\n"
   ]
  },
  {
   "cell_type": "markdown",
   "metadata": {},
   "source": [
    "### Visualize"
   ]
  },
  {
   "cell_type": "code",
   "execution_count": 6,
   "metadata": {},
   "outputs": [
    {
     "data": {
      "application/vnd.jupyter.widget-view+json": {
       "model_id": "0980d1f0161f4021b96c5c01cac7ed2d",
       "version_major": 2,
       "version_minor": 0
      },
      "text/plain": [
       "XSmilesWidget(gradient_config='{\"palette\": \"PRGn_5\", \"thresholds\": [0.5], \"highlight\": true, \"colorDomain\": [-…"
      ]
     },
     "metadata": {},
     "output_type": "display_data"
    }
   ],
   "source": [
    "\n",
    "xsmiles.XSmilesWidget(molecules=json.dumps(xsmiles_molecules), gradient_config=json.dumps(gradient_config), view_config=json.dumps(view_config) )"
   ]
  },
  {
   "cell_type": "code",
   "execution_count": 7,
   "metadata": {},
   "outputs": [
    {
     "data": {
      "application/vnd.jupyter.widget-view+json": {
       "model_id": "4f64503e3ec441bea6eb6f311fa098da",
       "version_major": 2,
       "version_minor": 0
      },
      "text/plain": [
       "XSmilesWidget(gradient_config='{\"palette\": \"PRGn_5\", \"thresholds\": [0.5], \"highlight\": true, \"colorDomain\": [-…"
      ]
     },
     "metadata": {},
     "output_type": "display_data"
    }
   ],
   "source": [
    "# show attributions on structures    XSMILES 0.1.3+\n",
    "view_config['showScoresOnStructure'] = True\n",
    "\n",
    "# Note that you need Jupyter Lab to see the visualization - it may not work in other environments\n",
    "xsmiles.XSmilesWidget(molecules=json.dumps(xsmiles_molecules), gradient_config=json.dumps(gradient_config), view_config=json.dumps(view_config) )"
   ]
  },
  {
   "cell_type": "code",
   "execution_count": null,
   "metadata": {},
   "outputs": [],
   "source": []
  },
  {
   "cell_type": "code",
   "execution_count": null,
   "metadata": {},
   "outputs": [],
   "source": []
  }
 ],
 "metadata": {
  "kernelspec": {
   "display_name": "Python 3 (ipykernel)",
   "language": "python",
   "name": "python3"
  },
  "language_info": {
   "codemirror_mode": {
    "name": "ipython",
    "version": 3
   },
   "file_extension": ".py",
   "mimetype": "text/x-python",
   "name": "python",
   "nbconvert_exporter": "python",
   "pygments_lexer": "ipython3",
   "version": "3.7.13"
  },
  "vscode": {
   "interpreter": {
    "hash": "b2c09bebc978ccfa2b566c6d9838b00db2fa4b2769255a701f1c05b9ef0794ee"
   }
  }
 },
 "nbformat": 4,
 "nbformat_minor": 4
}
